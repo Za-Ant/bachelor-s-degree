{
 "cells": [
  {
   "cell_type": "code",
   "execution_count": 1,
   "id": "4f8aaf05-5f91-4f88-b903-5c7ad0a4ed1a",
   "metadata": {},
   "outputs": [],
   "source": [
    "from tqdm import tqdm"
   ]
  },
  {
   "cell_type": "code",
   "execution_count": 8,
   "id": "54e41046-0ffa-4d82-bb65-0d0f32003955",
   "metadata": {},
   "outputs": [],
   "source": [
    "meta_sessions = 'meta_session_new/part_0.csv'\n",
    "meta_sessions_attributes = 'meta_sessions_attributes.csv'\n",
    "meta_sessions_attributes_definitions = 'meta_sessions_attributes_definitions.csv'"
   ]
  },
  {
   "cell_type": "code",
   "execution_count": 3,
   "id": "4f539b23-e6f8-497a-b3e4-b889fe258ded",
   "metadata": {},
   "outputs": [],
   "source": [
    "files = {line.split(',')[0]: open(f\"{line.split(',')[1][1:-1]}.csv\", 'w') for i, line in enumerate(open(meta_sessions_attributes_definitions)) if i > 0}"
   ]
  },
  {
   "cell_type": "code",
   "execution_count": 6,
   "id": "066bc3fa-0746-448d-b1a8-c23c1049ad54",
   "metadata": {},
   "outputs": [],
   "source": [
    "def head(filename, n=10):\n",
    "    with open(filename, 'r') as file:\n",
    "        for i, line in enumerate(file):\n",
    "            if i < n:\n",
    "                print(line)\n",
    "            else:\n",
    "                break"
   ]
  },
  {
   "cell_type": "code",
   "execution_count": 13,
   "id": "bb096b6c-0e4a-4049-85c4-899cec04a93d",
   "metadata": {},
   "outputs": [
    {
     "name": "stdout",
     "output_type": "stream",
     "text": [
      "base_attribute_first_discipline\n",
      "\n",
      "28\n",
      "\n",
      "56\n",
      "\n",
      "10\n",
      "\n",
      "20\n",
      "\n",
      "78\n",
      "\n",
      "156\n",
      "\n",
      "133\n",
      "\n",
      "266\n",
      "\n",
      "10\n",
      "\n"
     ]
    }
   ],
   "source": [
    "head('dataset/file_0.csv')"
   ]
  },
  {
   "cell_type": "code",
   "execution_count": 5,
   "id": "a4e9e828-c74a-4509-91dc-57750440d9ee",
   "metadata": {},
   "outputs": [
    {
     "name": "stdout",
     "output_type": "stream",
     "text": [
      "\"id\",\"session_id\",\"session_attribute_definition_id\",\"value\",\"created_at\",\"updated_at\"\n",
      "\n",
      "\"0000000c-7680-4667-b769-8fca12d3d8b4\",\"3323251\",\"23\",\"1\",\"19/2/2023 14:04:43\",\"19/2/2023 14:04:43\"\n",
      "\n",
      "\"0000001a-92f7-415d-873d-c7154274fdaf\",\"33705683\",\"3\",\"425\",\"24/1/2024 20:36:00\",\"24/1/2024 20:37:59\"\n",
      "\n",
      "\"00000042-c53e-4ad2-841d-56afe2d6fac0\",\"42551044\",\"22\",\"334\",\"7/10/2024 09:51:35\",\"7/10/2024 09:51:35\"\n",
      "\n",
      "\"0000004a-1489-46c7-ba35-c5c7bdacad3f\",\"38970088\",\"19\",\"3503\",\"1/8/2024 09:02:11\",\"1/8/2024 09:02:11\"\n",
      "\n",
      "\"0000006a-5663-439f-80a3-c3a323e7406c\",\"3121546\",\"23\",\"3\",\"15/2/2023 06:42:21\",\"15/2/2023 06:48:29\"\n",
      "\n",
      "\"00000092-ef33-4dc0-ab35-fdc16a00973a\",\"591157\",\"19\",\"2950\",\"1/1/2023 10:39:31\",\"1/1/2023 10:47:04\"\n",
      "\n",
      "\"00000099-7059-42e7-9eaa-4dcda2bd565c\",\"40140\",\"22\",\"10\",\"22/12/2022 23:48:50\",\"22/12/2022 23:48:50\"\n",
      "\n",
      "\"0000009b-ffeb-4eee-ad53-9a6f5e7f48a2\",\"81382\",\"3\",\"260\",\"23/12/2022 20:01:51\",\"23/12/2022 20:03:31\"\n",
      "\n",
      "\"000000a6-8576-4e3d-83b6-63710b7ae03d\",\"30692363\",\"3\",\"110\",\"24/7/2023 07:06:53\",\"24/7/2023 07:08:40\"\n",
      "\n"
     ]
    }
   ],
   "source": [
    "head(meta_sessions_attributes)"
   ]
  },
  {
   "cell_type": "code",
   "execution_count": 6,
   "id": "007d4a5f-21f5-4656-9e7f-f16ec27feec0",
   "metadata": {},
   "outputs": [],
   "source": [
    "msa = open('meta_session_new.csv', 'w')\n",
    "\n",
    "with open(meta_sessions, 'r') as file:\n",
    "    for i, line in enumerate(file):\n",
    "        if i == 0:\n",
    "            msa.write(line)\n",
    "        if line.split(',')[2] == '\"1\"':\n",
    "            msa.write(line)\n",
    "\n",
    "msa.close()"
   ]
  },
  {
   "cell_type": "code",
   "execution_count": 4,
   "id": "b7a99f01-0a12-48b7-9107-bbe26049c892",
   "metadata": {},
   "outputs": [],
   "source": [
    "def calc_distinct_by(filename, field_number) -> set:\n",
    "    values = set()\n",
    "    with open(filename, 'r') as file:\n",
    "        for i, line in tqdm(enumerate(file)):\n",
    "            if i == 0:\n",
    "                continue\n",
    "            values.add(line.split(',')[field_number])\n",
    "    return values"
   ]
  },
  {
   "cell_type": "code",
   "execution_count": 5,
   "id": "b80e72bb-66b0-4f42-8451-cbf9eb87a1d0",
   "metadata": {},
   "outputs": [
    {
     "name": "stderr",
     "output_type": "stream",
     "text": [
      "187046528it [09:06, 342257.98it/s]\n"
     ]
    }
   ],
   "source": [
    "with open(meta_sessions_attributes) as file:\n",
    "    for i, line in tqdm(enumerate(file)):\n",
    "        if i == 0:\n",
    "            for value in files.values():\n",
    "                value.write(line)\n",
    "            continue\n",
    "        files[line.split(',')[2]].write(line)"
   ]
  },
  {
   "cell_type": "code",
   "execution_count": 6,
   "id": "6c62a767-3aa0-4c20-9cbd-9cc88a937dc1",
   "metadata": {},
   "outputs": [],
   "source": [
    "for value in files.values():\n",
    "    value.close()"
   ]
  },
  {
   "cell_type": "code",
   "execution_count": null,
   "id": "e0c2b9e0-7e89-4201-a178-7433fe0d4f52",
   "metadata": {},
   "outputs": [],
   "source": []
  }
 ],
 "metadata": {
  "kernelspec": {
   "display_name": "Python 3 (ipykernel)",
   "language": "python",
   "name": "python3"
  },
  "language_info": {
   "codemirror_mode": {
    "name": "ipython",
    "version": 3
   },
   "file_extension": ".py",
   "mimetype": "text/x-python",
   "name": "python",
   "nbconvert_exporter": "python",
   "pygments_lexer": "ipython3",
   "version": "3.12.7"
  }
 },
 "nbformat": 4,
 "nbformat_minor": 5
}
