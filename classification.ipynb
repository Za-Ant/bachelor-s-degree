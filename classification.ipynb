{
 "cells": [
  {
   "cell_type": "code",
   "execution_count": 1,
   "id": "1bf719dd-cae9-4591-aa4c-915bfad8be11",
   "metadata": {
    "scrolled": true
   },
   "outputs": [
    {
     "data": {
      "text/html": [
       "<div>\n",
       "    <div style=\"width: 24px; height: 24px; background-color: #e1e1e1; border: 3px solid #9D9D9D; border-radius: 5px; position: absolute;\"> </div>\n",
       "    <div style=\"margin-left: 48px;\">\n",
       "        <h3 style=\"margin-bottom: 0px;\">Client</h3>\n",
       "        <p style=\"color: #9D9D9D; margin-bottom: 0px;\">Client-08953e0e-0a98-11f0-84dc-08b4d231a68b</p>\n",
       "        <table style=\"width: 100%; text-align: left;\">\n",
       "\n",
       "        <tr>\n",
       "        \n",
       "            <td style=\"text-align: left;\"><strong>Connection method:</strong> Cluster object</td>\n",
       "            <td style=\"text-align: left;\"><strong>Cluster type:</strong> distributed.LocalCluster</td>\n",
       "        \n",
       "        </tr>\n",
       "\n",
       "        \n",
       "            <tr>\n",
       "                <td style=\"text-align: left;\">\n",
       "                    <strong>Dashboard: </strong> <a href=\"http://127.0.0.1:8787/status\" target=\"_blank\">http://127.0.0.1:8787/status</a>\n",
       "                </td>\n",
       "                <td style=\"text-align: left;\"></td>\n",
       "            </tr>\n",
       "        \n",
       "\n",
       "        </table>\n",
       "\n",
       "        \n",
       "\n",
       "        \n",
       "            <details>\n",
       "            <summary style=\"margin-bottom: 20px;\"><h3 style=\"display: inline;\">Cluster Info</h3></summary>\n",
       "            <div class=\"jp-RenderedHTMLCommon jp-RenderedHTML jp-mod-trusted jp-OutputArea-output\">\n",
       "    <div style=\"width: 24px; height: 24px; background-color: #e1e1e1; border: 3px solid #9D9D9D; border-radius: 5px; position: absolute;\">\n",
       "    </div>\n",
       "    <div style=\"margin-left: 48px;\">\n",
       "        <h3 style=\"margin-bottom: 0px; margin-top: 0px;\">LocalCluster</h3>\n",
       "        <p style=\"color: #9D9D9D; margin-bottom: 0px;\">b0b90617</p>\n",
       "        <table style=\"width: 100%; text-align: left;\">\n",
       "            <tr>\n",
       "                <td style=\"text-align: left;\">\n",
       "                    <strong>Dashboard:</strong> <a href=\"http://127.0.0.1:8787/status\" target=\"_blank\">http://127.0.0.1:8787/status</a>\n",
       "                </td>\n",
       "                <td style=\"text-align: left;\">\n",
       "                    <strong>Workers:</strong> 2\n",
       "                </td>\n",
       "            </tr>\n",
       "            <tr>\n",
       "                <td style=\"text-align: left;\">\n",
       "                    <strong>Total threads:</strong> 4\n",
       "                </td>\n",
       "                <td style=\"text-align: left;\">\n",
       "                    <strong>Total memory:</strong> 22.35 GiB\n",
       "                </td>\n",
       "            </tr>\n",
       "            \n",
       "            <tr>\n",
       "    <td style=\"text-align: left;\"><strong>Status:</strong> running</td>\n",
       "    <td style=\"text-align: left;\"><strong>Using processes:</strong> True</td>\n",
       "</tr>\n",
       "\n",
       "            \n",
       "        </table>\n",
       "\n",
       "        <details>\n",
       "            <summary style=\"margin-bottom: 20px;\">\n",
       "                <h3 style=\"display: inline;\">Scheduler Info</h3>\n",
       "            </summary>\n",
       "\n",
       "            <div style=\"\">\n",
       "    <div>\n",
       "        <div style=\"width: 24px; height: 24px; background-color: #FFF7E5; border: 3px solid #FF6132; border-radius: 5px; position: absolute;\"> </div>\n",
       "        <div style=\"margin-left: 48px;\">\n",
       "            <h3 style=\"margin-bottom: 0px;\">Scheduler</h3>\n",
       "            <p style=\"color: #9D9D9D; margin-bottom: 0px;\">Scheduler-b8f29db3-1f24-47ca-bd11-cb2edbf7951b</p>\n",
       "            <table style=\"width: 100%; text-align: left;\">\n",
       "                <tr>\n",
       "                    <td style=\"text-align: left;\">\n",
       "                        <strong>Comm:</strong> tcp://127.0.0.1:57861\n",
       "                    </td>\n",
       "                    <td style=\"text-align: left;\">\n",
       "                        <strong>Workers:</strong> 2\n",
       "                    </td>\n",
       "                </tr>\n",
       "                <tr>\n",
       "                    <td style=\"text-align: left;\">\n",
       "                        <strong>Dashboard:</strong> <a href=\"http://127.0.0.1:8787/status\" target=\"_blank\">http://127.0.0.1:8787/status</a>\n",
       "                    </td>\n",
       "                    <td style=\"text-align: left;\">\n",
       "                        <strong>Total threads:</strong> 4\n",
       "                    </td>\n",
       "                </tr>\n",
       "                <tr>\n",
       "                    <td style=\"text-align: left;\">\n",
       "                        <strong>Started:</strong> Just now\n",
       "                    </td>\n",
       "                    <td style=\"text-align: left;\">\n",
       "                        <strong>Total memory:</strong> 22.35 GiB\n",
       "                    </td>\n",
       "                </tr>\n",
       "            </table>\n",
       "        </div>\n",
       "    </div>\n",
       "\n",
       "    <details style=\"margin-left: 48px;\">\n",
       "        <summary style=\"margin-bottom: 20px;\">\n",
       "            <h3 style=\"display: inline;\">Workers</h3>\n",
       "        </summary>\n",
       "\n",
       "        \n",
       "        <div style=\"margin-bottom: 20px;\">\n",
       "            <div style=\"width: 24px; height: 24px; background-color: #DBF5FF; border: 3px solid #4CC9FF; border-radius: 5px; position: absolute;\"> </div>\n",
       "            <div style=\"margin-left: 48px;\">\n",
       "            <details>\n",
       "                <summary>\n",
       "                    <h4 style=\"margin-bottom: 0px; display: inline;\">Worker: 0</h4>\n",
       "                </summary>\n",
       "                <table style=\"width: 100%; text-align: left;\">\n",
       "                    <tr>\n",
       "                        <td style=\"text-align: left;\">\n",
       "                            <strong>Comm: </strong> tcp://127.0.0.1:57873\n",
       "                        </td>\n",
       "                        <td style=\"text-align: left;\">\n",
       "                            <strong>Total threads: </strong> 2\n",
       "                        </td>\n",
       "                    </tr>\n",
       "                    <tr>\n",
       "                        <td style=\"text-align: left;\">\n",
       "                            <strong>Dashboard: </strong> <a href=\"http://127.0.0.1:57876/status\" target=\"_blank\">http://127.0.0.1:57876/status</a>\n",
       "                        </td>\n",
       "                        <td style=\"text-align: left;\">\n",
       "                            <strong>Memory: </strong> 11.18 GiB\n",
       "                        </td>\n",
       "                    </tr>\n",
       "                    <tr>\n",
       "                        <td style=\"text-align: left;\">\n",
       "                            <strong>Nanny: </strong> tcp://127.0.0.1:57864\n",
       "                        </td>\n",
       "                        <td style=\"text-align: left;\"></td>\n",
       "                    </tr>\n",
       "                    <tr>\n",
       "                        <td colspan=\"2\" style=\"text-align: left;\">\n",
       "                            <strong>Local directory: </strong> C:\\Users\\ANDREI~1\\AppData\\Local\\Temp\\dask-scratch-space\\worker-wph9mvmu\n",
       "                        </td>\n",
       "                    </tr>\n",
       "\n",
       "                    \n",
       "\n",
       "                    \n",
       "\n",
       "                </table>\n",
       "            </details>\n",
       "            </div>\n",
       "        </div>\n",
       "        \n",
       "        <div style=\"margin-bottom: 20px;\">\n",
       "            <div style=\"width: 24px; height: 24px; background-color: #DBF5FF; border: 3px solid #4CC9FF; border-radius: 5px; position: absolute;\"> </div>\n",
       "            <div style=\"margin-left: 48px;\">\n",
       "            <details>\n",
       "                <summary>\n",
       "                    <h4 style=\"margin-bottom: 0px; display: inline;\">Worker: 1</h4>\n",
       "                </summary>\n",
       "                <table style=\"width: 100%; text-align: left;\">\n",
       "                    <tr>\n",
       "                        <td style=\"text-align: left;\">\n",
       "                            <strong>Comm: </strong> tcp://127.0.0.1:57872\n",
       "                        </td>\n",
       "                        <td style=\"text-align: left;\">\n",
       "                            <strong>Total threads: </strong> 2\n",
       "                        </td>\n",
       "                    </tr>\n",
       "                    <tr>\n",
       "                        <td style=\"text-align: left;\">\n",
       "                            <strong>Dashboard: </strong> <a href=\"http://127.0.0.1:57874/status\" target=\"_blank\">http://127.0.0.1:57874/status</a>\n",
       "                        </td>\n",
       "                        <td style=\"text-align: left;\">\n",
       "                            <strong>Memory: </strong> 11.18 GiB\n",
       "                        </td>\n",
       "                    </tr>\n",
       "                    <tr>\n",
       "                        <td style=\"text-align: left;\">\n",
       "                            <strong>Nanny: </strong> tcp://127.0.0.1:57866\n",
       "                        </td>\n",
       "                        <td style=\"text-align: left;\"></td>\n",
       "                    </tr>\n",
       "                    <tr>\n",
       "                        <td colspan=\"2\" style=\"text-align: left;\">\n",
       "                            <strong>Local directory: </strong> C:\\Users\\ANDREI~1\\AppData\\Local\\Temp\\dask-scratch-space\\worker-zr8zfh0d\n",
       "                        </td>\n",
       "                    </tr>\n",
       "\n",
       "                    \n",
       "\n",
       "                    \n",
       "\n",
       "                </table>\n",
       "            </details>\n",
       "            </div>\n",
       "        </div>\n",
       "        \n",
       "\n",
       "    </details>\n",
       "</div>\n",
       "\n",
       "        </details>\n",
       "    </div>\n",
       "</div>\n",
       "            </details>\n",
       "        \n",
       "\n",
       "    </div>\n",
       "</div>"
      ],
      "text/plain": [
       "<Client: 'tcp://127.0.0.1:57861' processes=2 threads=4, memory=22.35 GiB>"
      ]
     },
     "execution_count": 1,
     "metadata": {},
     "output_type": "execute_result"
    },
    {
     "name": "stderr",
     "output_type": "stream",
     "text": [
      "2025-03-27 03:22:24,745 - distributed.nanny.memory - WARNING - Worker tcp://127.0.0.1:57873 (pid=21372) exceeded 95% memory budget. Restarting...\n",
      "2025-03-27 03:22:24,755 - distributed.scheduler - WARNING - Removing worker 'tcp://127.0.0.1:57873' caused the cluster to lose already computed task(s), which will be recomputed elsewhere: {('repartitiontofewer-11e68300b7bb6ee85bc973bd120d1f67', 0)} (stimulus_id='handle-worker-cleanup-1743031344.7554755')\n",
      "2025-03-27 03:22:24,758 - distributed.scheduler - ERROR - Couldn't gather keys: {('repartitiontofewer-11e68300b7bb6ee85bc973bd120d1f67', 0): 'waiting'}\n",
      "2025-03-27 03:22:25,932 - distributed.nanny - WARNING - Restarting worker\n",
      "2025-03-27 03:22:39,343 - distributed.nanny.memory - WARNING - Worker tcp://127.0.0.1:57872 (pid=34568) exceeded 95% memory budget. Restarting...\n",
      "2025-03-27 03:22:39,353 - distributed.scheduler - WARNING - Removing worker 'tcp://127.0.0.1:57872' caused the cluster to lose already computed task(s), which will be recomputed elsewhere: {('repartitiontofewer-11e68300b7bb6ee85bc973bd120d1f67', 0)} (stimulus_id='handle-worker-cleanup-1743031359.3539736')\n",
      "2025-03-27 03:22:39,359 - distributed.scheduler - ERROR - Couldn't gather keys: {('repartitiontofewer-11e68300b7bb6ee85bc973bd120d1f67', 0): 'waiting'}\n",
      "2025-03-27 03:22:40,277 - distributed.nanny - WARNING - Restarting worker\n",
      "2025-03-27 03:22:54,926 - distributed.nanny.memory - WARNING - Worker tcp://127.0.0.1:58112 (pid=36656) exceeded 95% memory budget. Restarting...\n",
      "2025-03-27 03:22:54,934 - distributed.scheduler - WARNING - Removing worker 'tcp://127.0.0.1:58112' caused the cluster to lose already computed task(s), which will be recomputed elsewhere: {('repartitiontofewer-11e68300b7bb6ee85bc973bd120d1f67', 0)} (stimulus_id='handle-worker-cleanup-1743031374.9342954')\n",
      "2025-03-27 03:22:54,939 - distributed.scheduler - ERROR - Couldn't gather keys: {('repartitiontofewer-11e68300b7bb6ee85bc973bd120d1f67', 0): 'waiting'}\n",
      "2025-03-27 03:22:55,468 - distributed.nanny - WARNING - Restarting worker\n",
      "2025-03-27 03:23:08,545 - distributed.nanny.memory - WARNING - Worker tcp://127.0.0.1:58127 (pid=14680) exceeded 95% memory budget. Restarting...\n",
      "2025-03-27 03:23:08,554 - distributed.scheduler - WARNING - Removing worker 'tcp://127.0.0.1:58127' caused the cluster to lose already computed task(s), which will be recomputed elsewhere: {('repartitiontofewer-11e68300b7bb6ee85bc973bd120d1f67', 0)} (stimulus_id='handle-worker-cleanup-1743031388.5544887')\n",
      "2025-03-27 03:23:08,558 - distributed.scheduler - ERROR - Couldn't gather keys: {('repartitiontofewer-11e68300b7bb6ee85bc973bd120d1f67', 0): 'waiting'}\n",
      "2025-03-27 03:23:08,998 - distributed.nanny - WARNING - Restarting worker\n",
      "Task exception was never retrieved\n",
      "future: <Task finished name='Task-119185' coro=<Client._gather.<locals>.wait() done, defined at C:\\Users\\andrei_rozdestvenski\\anaconda3\\Lib\\site-packages\\distributed\\client.py:2394> exception=AllExit()>\n",
      "Traceback (most recent call last):\n",
      "  File \"C:\\Users\\andrei_rozdestvenski\\anaconda3\\Lib\\site-packages\\distributed\\client.py\", line 2403, in wait\n",
      "    raise AllExit()\n",
      "distributed.client.AllExit\n",
      "2025-03-27 03:23:38,633 - distributed.nanny.memory - WARNING - Worker tcp://127.0.0.1:58139 (pid=34988) exceeded 95% memory budget. Restarting...\n",
      "2025-03-27 03:23:38,639 - distributed.scheduler - WARNING - Removing worker 'tcp://127.0.0.1:58139' caused the cluster to lose already computed task(s), which will be recomputed elsewhere: {('repartitiontofewer-11e68300b7bb6ee85bc973bd120d1f67', 0)} (stimulus_id='handle-worker-cleanup-1743031418.6403167')\n",
      "2025-03-27 03:23:38,644 - distributed.scheduler - ERROR - Couldn't gather keys: {('repartitiontofewer-11e68300b7bb6ee85bc973bd120d1f67', 0): 'waiting'}\n",
      "2025-03-27 03:23:39,166 - distributed.nanny - WARNING - Restarting worker\n",
      "2025-03-27 03:23:52,922 - distributed.nanny.memory - WARNING - Worker tcp://127.0.0.1:58152 (pid=10804) exceeded 95% memory budget. Restarting...\n",
      "2025-03-27 03:23:52,929 - distributed.scheduler - WARNING - Removing worker 'tcp://127.0.0.1:58152' caused the cluster to lose already computed task(s), which will be recomputed elsewhere: {('repartitiontofewer-11e68300b7bb6ee85bc973bd120d1f67', 0)} (stimulus_id='handle-worker-cleanup-1743031432.9294157')\n",
      "2025-03-27 03:23:52,931 - distributed.scheduler - ERROR - Couldn't gather keys: {('repartitiontofewer-11e68300b7bb6ee85bc973bd120d1f67', 0): 'waiting'}\n",
      "2025-03-27 03:23:53,374 - distributed.nanny - WARNING - Restarting worker\n",
      "Task exception was never retrieved\n",
      "future: <Task finished name='Task-135622' coro=<Client._gather.<locals>.wait() done, defined at C:\\Users\\andrei_rozdestvenski\\anaconda3\\Lib\\site-packages\\distributed\\client.py:2394> exception=AllExit()>\n",
      "Traceback (most recent call last):\n",
      "  File \"C:\\Users\\andrei_rozdestvenski\\anaconda3\\Lib\\site-packages\\distributed\\client.py\", line 2403, in wait\n",
      "    raise AllExit()\n",
      "distributed.client.AllExit\n"
     ]
    }
   ],
   "source": [
    "from dask.distributed import Client\n",
    "\n",
    "client = Client(n_workers=2, threads_per_worker=2, memory_limit=\"12GB\")\n",
    "client"
   ]
  },
  {
   "cell_type": "code",
   "execution_count": 2,
   "id": "bf46a4a5-a6f9-4d8c-9e31-2f2a12722d35",
   "metadata": {},
   "outputs": [],
   "source": [
    "ms_file = 'meta_sessions.csv'\n",
    "ms_attrs_file = 'meta_sessions_attributes.csv'\n",
    "ms_attrs_definitions = 'meta_sessions_attributes_definitions.csv'"
   ]
  },
  {
   "cell_type": "code",
   "execution_count": 3,
   "id": "d768916e-63c3-41cd-ba5d-d765a034d4de",
   "metadata": {},
   "outputs": [],
   "source": [
    "import dask.dataframe as dd\n",
    "import pandas as pd"
   ]
  },
  {
   "cell_type": "code",
   "execution_count": 4,
   "id": "ee4f8891-06ad-43d6-85cf-95ac7f1136fa",
   "metadata": {},
   "outputs": [],
   "source": [
    "ms = dd.read_csv(ms_file)\n",
    "ms_attrs = dd.read_csv(ms_attrs_file)"
   ]
  },
  {
   "cell_type": "code",
   "execution_count": 5,
   "id": "0e531eb4-e7a2-49c6-9f9c-6fb8a66f39ba",
   "metadata": {},
   "outputs": [
    {
     "name": "stdout",
     "output_type": "stream",
     "text": [
      "1, 2, 3, 4, 5, 6, 7, 8, 9, 10, 11, 12, 13, 14, 15, 16, 17, 18, 19, 20, 21, 22, 23, 24, 25, 26, 27, 28\n"
     ]
    }
   ],
   "source": [
    "with open(ms_attrs_definitions, 'r') as file:\n",
    "    attrs_indexes = [int(line.split(',')[0].strip('\"')) for i, line in enumerate(file) if i > 0]\n",
    "print(*attrs_indexes, sep=', ')"
   ]
  },
  {
   "cell_type": "code",
   "execution_count": 6,
   "id": "a8b0f30d-2ce4-4979-8b89-1f92f433c9cb",
   "metadata": {},
   "outputs": [],
   "source": [
    "for idx in attrs_indexes:\n",
    "    ms_attrs[f'attr_{idx}'] = ms_attrs['value'].where(ms_attrs['session_attribute_definition_id'] == idx, 0)"
   ]
  },
  {
   "cell_type": "code",
   "execution_count": 7,
   "id": "9cd87981-fc57-4ce9-9662-e8d6c130cdb7",
   "metadata": {},
   "outputs": [],
   "source": [
    "ms_attrs = ms_attrs.drop(columns=['created_at', 'updated_at', 'session_attribute_definition_id', 'value', 'id'])"
   ]
  },
  {
   "cell_type": "code",
   "execution_count": 8,
   "id": "24bafd47-b26b-4835-951f-0021a83fee13",
   "metadata": {},
   "outputs": [],
   "source": [
    "full_table = (\n",
    "    ms_attrs\n",
    "    .repartition(partition_size='10Mb')\n",
    "    .merge(\n",
    "        ms[['id', 'oauth_user_games_id']].repartition(partition_size='10Mb'),\n",
    "        left_on='session_id',\n",
    "        right_on='id',\n",
    "        on='left'\n",
    "    )\n",
    "    .drop_duplicates(['session_id'])\n",
    ")"
   ]
  },
  {
   "cell_type": "code",
   "execution_count": 9,
   "id": "98799392-7717-4239-914b-f67bdd585fa4",
   "metadata": {},
   "outputs": [
    {
     "data": {
      "text/plain": [
       "['C:\\\\Users\\\\andrei_rozdestvenski\\\\bachalor\\\\result_data.csv']"
      ]
     },
     "execution_count": 9,
     "metadata": {},
     "output_type": "execute_result"
    }
   ],
   "source": [
    "full_table.to_csv('result_data.csv', single_file=True, index=False)"
   ]
  },
  {
   "cell_type": "code",
   "execution_count": null,
   "id": "d6d5758e-ec83-48f5-b562-02abed8aacf6",
   "metadata": {},
   "outputs": [],
   "source": []
  },
  {
   "cell_type": "code",
   "execution_count": null,
   "id": "69644b77-0a5c-43b5-8a04-54454f8565d0",
   "metadata": {},
   "outputs": [],
   "source": []
  },
  {
   "cell_type": "code",
   "execution_count": null,
   "id": "bc87df63-4753-45ef-90f1-b3c6f698641f",
   "metadata": {},
   "outputs": [],
   "source": []
  },
  {
   "cell_type": "code",
   "execution_count": null,
   "id": "e46ad256-88d1-4332-a4ac-3eb8f7530a15",
   "metadata": {},
   "outputs": [],
   "source": []
  },
  {
   "cell_type": "code",
   "execution_count": 5,
   "id": "1c1acb70-05fc-4703-a530-3929da0c89ac",
   "metadata": {},
   "outputs": [],
   "source": [
    "full_table = dd.read_csv('result_data.csv')"
   ]
  },
  {
   "cell_type": "code",
   "execution_count": 7,
   "id": "10303be4-7c5b-4f23-a364-daccdf7466e0",
   "metadata": {},
   "outputs": [],
   "source": [
    "def shift_group(df):\n",
    "    df = df.sort_values(by='session_id')\n",
    "    df['metric'] = df['attr_26'].shift(-1)\n",
    "    return df"
   ]
  },
  {
   "cell_type": "code",
   "execution_count": 8,
   "id": "e225a49f-260b-478a-9709-91dc1faf825b",
   "metadata": {},
   "outputs": [],
   "source": [
    "full_table = full_table.groupby('oauth_user_games_id').apply(shift_group, meta={**full_table.dtypes.to_dict(), 'metric': 'int64'})"
   ]
  },
  {
   "cell_type": "code",
   "execution_count": 9,
   "id": "b8be35a9-ce1b-4d5f-85be-09a317e8dd49",
   "metadata": {},
   "outputs": [],
   "source": [
    "full_table = full_table.persist()"
   ]
  },
  {
   "cell_type": "code",
   "execution_count": 17,
   "id": "e5beb056-d774-4044-aca2-902c7544ad51",
   "metadata": {},
   "outputs": [
    {
     "data": {
      "text/plain": [
       "['C:\\\\Users\\\\andrei_rozdestvenski\\\\bachalor\\\\prepared_data.csv']"
      ]
     },
     "execution_count": 17,
     "metadata": {},
     "output_type": "execute_result"
    }
   ],
   "source": [
    "full_table.dropna(subset=['metric']).reset_index(drop=True).to_csv('prepared_data.csv', single_file=True, index=False)"
   ]
  },
  {
   "cell_type": "code",
   "execution_count": null,
   "id": "897d3f66-2176-4058-a73b-d4e3f351cbbb",
   "metadata": {},
   "outputs": [],
   "source": []
  },
  {
   "cell_type": "code",
   "execution_count": null,
   "id": "31d03b60-70fd-4f35-b24f-bdfcb9ec7234",
   "metadata": {},
   "outputs": [],
   "source": []
  },
  {
   "cell_type": "code",
   "execution_count": null,
   "id": "8612d4a9-966b-4adf-b525-b7fe8654d55b",
   "metadata": {},
   "outputs": [],
   "source": []
  },
  {
   "cell_type": "code",
   "execution_count": 34,
   "id": "42cb8543-595e-43e1-a6a7-9b5768b0c8ab",
   "metadata": {},
   "outputs": [],
   "source": [
    "import pandas as pd\n",
    "import numpy as np\n",
    "from sklearn.model_selection import train_test_split\n",
    "from sklearn.preprocessing import StandardScaler\n",
    "import tensorflow as tf\n",
    "from tensorflow.keras.models import Sequential\n",
    "from tensorflow.keras.layers import Dense, Input"
   ]
  },
  {
   "cell_type": "code",
   "execution_count": 22,
   "id": "b0bec8df-d7c6-44ea-8007-6896acb77a34",
   "metadata": {},
   "outputs": [],
   "source": [
    "full_table = pd.read_csv('prepared_data.csv')"
   ]
  },
  {
   "cell_type": "code",
   "execution_count": 23,
   "id": "c2b59a97-3344-4827-9f2a-52ac569f9609",
   "metadata": {},
   "outputs": [
    {
     "data": {
      "text/html": [
       "<div>\n",
       "<style scoped>\n",
       "    .dataframe tbody tr th:only-of-type {\n",
       "        vertical-align: middle;\n",
       "    }\n",
       "\n",
       "    .dataframe tbody tr th {\n",
       "        vertical-align: top;\n",
       "    }\n",
       "\n",
       "    .dataframe thead th {\n",
       "        text-align: right;\n",
       "    }\n",
       "</style>\n",
       "<table border=\"1\" class=\"dataframe\">\n",
       "  <thead>\n",
       "    <tr style=\"text-align: right;\">\n",
       "      <th></th>\n",
       "      <th>session_id</th>\n",
       "      <th>attr_1</th>\n",
       "      <th>attr_2</th>\n",
       "      <th>attr_3</th>\n",
       "      <th>attr_4</th>\n",
       "      <th>attr_5</th>\n",
       "      <th>attr_6</th>\n",
       "      <th>attr_7</th>\n",
       "      <th>attr_8</th>\n",
       "      <th>attr_9</th>\n",
       "      <th>...</th>\n",
       "      <th>attr_22</th>\n",
       "      <th>attr_23</th>\n",
       "      <th>attr_24</th>\n",
       "      <th>attr_25</th>\n",
       "      <th>attr_26</th>\n",
       "      <th>attr_27</th>\n",
       "      <th>attr_28</th>\n",
       "      <th>id</th>\n",
       "      <th>oauth_user_games_id</th>\n",
       "      <th>metric</th>\n",
       "    </tr>\n",
       "  </thead>\n",
       "  <tbody>\n",
       "    <tr>\n",
       "      <th>0</th>\n",
       "      <td>33770778</td>\n",
       "      <td>0</td>\n",
       "      <td>0</td>\n",
       "      <td>0</td>\n",
       "      <td>0</td>\n",
       "      <td>0</td>\n",
       "      <td>0</td>\n",
       "      <td>2</td>\n",
       "      <td>0</td>\n",
       "      <td>0</td>\n",
       "      <td>...</td>\n",
       "      <td>0</td>\n",
       "      <td>0</td>\n",
       "      <td>0</td>\n",
       "      <td>0</td>\n",
       "      <td>0</td>\n",
       "      <td>0</td>\n",
       "      <td>0</td>\n",
       "      <td>33770778</td>\n",
       "      <td>0003de50-43e0-4188-bb76-fa46f7322c23</td>\n",
       "      <td>0.0</td>\n",
       "    </tr>\n",
       "    <tr>\n",
       "      <th>1</th>\n",
       "      <td>33774782</td>\n",
       "      <td>0</td>\n",
       "      <td>0</td>\n",
       "      <td>0</td>\n",
       "      <td>0</td>\n",
       "      <td>0</td>\n",
       "      <td>0</td>\n",
       "      <td>0</td>\n",
       "      <td>0</td>\n",
       "      <td>0</td>\n",
       "      <td>...</td>\n",
       "      <td>0</td>\n",
       "      <td>0</td>\n",
       "      <td>0</td>\n",
       "      <td>0</td>\n",
       "      <td>0</td>\n",
       "      <td>0</td>\n",
       "      <td>0</td>\n",
       "      <td>33774782</td>\n",
       "      <td>0003de50-43e0-4188-bb76-fa46f7322c23</td>\n",
       "      <td>0.0</td>\n",
       "    </tr>\n",
       "    <tr>\n",
       "      <th>2</th>\n",
       "      <td>33783006</td>\n",
       "      <td>0</td>\n",
       "      <td>0</td>\n",
       "      <td>0</td>\n",
       "      <td>0</td>\n",
       "      <td>0</td>\n",
       "      <td>0</td>\n",
       "      <td>0</td>\n",
       "      <td>0</td>\n",
       "      <td>0</td>\n",
       "      <td>...</td>\n",
       "      <td>0</td>\n",
       "      <td>0</td>\n",
       "      <td>0</td>\n",
       "      <td>0</td>\n",
       "      <td>0</td>\n",
       "      <td>0</td>\n",
       "      <td>0</td>\n",
       "      <td>33783006</td>\n",
       "      <td>0003de50-43e0-4188-bb76-fa46f7322c23</td>\n",
       "      <td>0.0</td>\n",
       "    </tr>\n",
       "    <tr>\n",
       "      <th>3</th>\n",
       "      <td>504443</td>\n",
       "      <td>0</td>\n",
       "      <td>0</td>\n",
       "      <td>0</td>\n",
       "      <td>0</td>\n",
       "      <td>0</td>\n",
       "      <td>0</td>\n",
       "      <td>0</td>\n",
       "      <td>0</td>\n",
       "      <td>0</td>\n",
       "      <td>...</td>\n",
       "      <td>0</td>\n",
       "      <td>0</td>\n",
       "      <td>0</td>\n",
       "      <td>0</td>\n",
       "      <td>0</td>\n",
       "      <td>0</td>\n",
       "      <td>0</td>\n",
       "      <td>504443</td>\n",
       "      <td>0005008d-11c6-4e51-97c8-d8acd27c6eb9</td>\n",
       "      <td>0.0</td>\n",
       "    </tr>\n",
       "    <tr>\n",
       "      <th>4</th>\n",
       "      <td>505199</td>\n",
       "      <td>0</td>\n",
       "      <td>0</td>\n",
       "      <td>0</td>\n",
       "      <td>0</td>\n",
       "      <td>0</td>\n",
       "      <td>0</td>\n",
       "      <td>0</td>\n",
       "      <td>0</td>\n",
       "      <td>0</td>\n",
       "      <td>...</td>\n",
       "      <td>0</td>\n",
       "      <td>0</td>\n",
       "      <td>0</td>\n",
       "      <td>0</td>\n",
       "      <td>0</td>\n",
       "      <td>0</td>\n",
       "      <td>0</td>\n",
       "      <td>505199</td>\n",
       "      <td>0005008d-11c6-4e51-97c8-d8acd27c6eb9</td>\n",
       "      <td>0.0</td>\n",
       "    </tr>\n",
       "  </tbody>\n",
       "</table>\n",
       "<p>5 rows × 32 columns</p>\n",
       "</div>"
      ],
      "text/plain": [
       "   session_id  attr_1  attr_2  attr_3  attr_4  attr_5  attr_6  attr_7  attr_8  \\\n",
       "0    33770778       0       0       0       0       0       0       2       0   \n",
       "1    33774782       0       0       0       0       0       0       0       0   \n",
       "2    33783006       0       0       0       0       0       0       0       0   \n",
       "3      504443       0       0       0       0       0       0       0       0   \n",
       "4      505199       0       0       0       0       0       0       0       0   \n",
       "\n",
       "   attr_9  ...  attr_22  attr_23  attr_24  attr_25  attr_26  attr_27  attr_28  \\\n",
       "0       0  ...        0        0        0        0        0        0        0   \n",
       "1       0  ...        0        0        0        0        0        0        0   \n",
       "2       0  ...        0        0        0        0        0        0        0   \n",
       "3       0  ...        0        0        0        0        0        0        0   \n",
       "4       0  ...        0        0        0        0        0        0        0   \n",
       "\n",
       "         id                   oauth_user_games_id  metric  \n",
       "0  33770778  0003de50-43e0-4188-bb76-fa46f7322c23     0.0  \n",
       "1  33774782  0003de50-43e0-4188-bb76-fa46f7322c23     0.0  \n",
       "2  33783006  0003de50-43e0-4188-bb76-fa46f7322c23     0.0  \n",
       "3    504443  0005008d-11c6-4e51-97c8-d8acd27c6eb9     0.0  \n",
       "4    505199  0005008d-11c6-4e51-97c8-d8acd27c6eb9     0.0  \n",
       "\n",
       "[5 rows x 32 columns]"
      ]
     },
     "execution_count": 23,
     "metadata": {},
     "output_type": "execute_result"
    }
   ],
   "source": [
    "full_table.head()"
   ]
  },
  {
   "cell_type": "code",
   "execution_count": 24,
   "id": "1ac7b2f6-7895-4f14-9cb6-94a4520558ca",
   "metadata": {},
   "outputs": [],
   "source": [
    "X_df = full_table[[x for x in full_table.columns if x.startswith('attr_')]]\n",
    "Y_df = full_table[['metric']]"
   ]
  },
  {
   "cell_type": "code",
   "execution_count": 26,
   "id": "18bfcece-eb4c-4545-8087-9c7d4de7a749",
   "metadata": {},
   "outputs": [],
   "source": [
    "Y_df.loc[:,'metric'] = (Y_df['metric'] > 0).astype(int)"
   ]
  },
  {
   "cell_type": "code",
   "execution_count": 27,
   "id": "606e3f23-a3f0-44ce-a196-61f60d9d5ad6",
   "metadata": {},
   "outputs": [],
   "source": [
    "scaler = StandardScaler()\n",
    "X = scaler.fit_transform(X_df)\n",
    "Y = Y_df.values"
   ]
  },
  {
   "cell_type": "code",
   "execution_count": 36,
   "id": "57daccb4-51c4-4581-a04e-277bd21fc956",
   "metadata": {},
   "outputs": [],
   "source": [
    "model = Sequential([\n",
    "    Input((X.shape[1],)),\n",
    "    Dense(64, activation='tanh'),\n",
    "    Dense(32, activation='tanh'),\n",
    "    Dense(1, activation='sigmoid')\n",
    "])\n",
    "\n",
    "# AUC - https://www.tensorflow.org/api_docs/python/tf/keras/metrics/AUC\n",
    "model.compile(\n",
    "    optimizer='adam',\n",
    "    loss='binary_crossentropy',\n",
    "    metrics=['accuracy', tf.keras.metrics.AUC(name='auc')]\n",
    ")"
   ]
  },
  {
   "cell_type": "code",
   "execution_count": 32,
   "id": "b489cfd8-8c79-4c8e-876f-7a0a2a9d243d",
   "metadata": {},
   "outputs": [],
   "source": [
    "X_train, X_test, Y_train, Y_test = train_test_split(\n",
    "    X, Y, test_size=0.2, stratify=Y)"
   ]
  },
  {
   "cell_type": "code",
   "execution_count": null,
   "id": "0d0a6278-6404-4890-8a01-f85616d63dce",
   "metadata": {},
   "outputs": [
    {
     "name": "stdout",
     "output_type": "stream",
     "text": [
      "Epoch 1/25\n",
      "\u001b[1m 15083/451754\u001b[0m \u001b[37m━━━━━━━━━━━━━━━━━━━━\u001b[0m \u001b[1m6:39\u001b[0m 916us/step - accuracy: 0.7632 - auc: 0.6123 - loss: 0.5344"
     ]
    }
   ],
   "source": [
    "history = model.fit(\n",
    "    X_train, Y_train,\n",
    "    validation_data=(X_test, Y_test),\n",
    "    epochs=25\n",
    ")"
   ]
  },
  {
   "cell_type": "code",
   "execution_count": null,
   "id": "8d4d5c90-5bef-4762-a75b-e3b1f44f9da0",
   "metadata": {},
   "outputs": [],
   "source": []
  }
 ],
 "metadata": {
  "kernelspec": {
   "display_name": "Python 3 (ipykernel)",
   "language": "python",
   "name": "python3"
  },
  "language_info": {
   "codemirror_mode": {
    "name": "ipython",
    "version": 3
   },
   "file_extension": ".py",
   "mimetype": "text/x-python",
   "name": "python",
   "nbconvert_exporter": "python",
   "pygments_lexer": "ipython3",
   "version": "3.12.7"
  }
 },
 "nbformat": 4,
 "nbformat_minor": 5
}
