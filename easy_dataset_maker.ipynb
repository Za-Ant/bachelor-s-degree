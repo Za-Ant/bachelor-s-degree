{
 "cells": [
  {
   "cell_type": "code",
   "execution_count": 1,
   "id": "4fbc6726-7417-4258-901b-9c2ee0732b4b",
   "metadata": {},
   "outputs": [],
   "source": [
    "from tqdm import tqdm"
   ]
  },
  {
   "cell_type": "code",
   "execution_count": 2,
   "id": "60fc3aff-eb7b-42fd-aff2-e038e57c6b67",
   "metadata": {},
   "outputs": [],
   "source": [
    "users = set()\n",
    "sessions = set()\n",
    "top_users_count = 1_00\n",
    "ms_file = \"meta_sessions.csv\"\n",
    "ms_attr_file = \"meta_sessions_attributes.csv\"\n",
    "\n",
    "new_ms_file = \"ms_new.csv\"\n",
    "new_msattr_file = \"new_ms_attr.csv\""
   ]
  },
  {
   "cell_type": "code",
   "execution_count": 3,
   "id": "5bc70d88-7975-47a4-8f9c-0a0758135919",
   "metadata": {},
   "outputs": [
    {
     "ename": "FileNotFoundError",
     "evalue": "[Errno 2] No such file or directory: 'meta_sessions.csv'",
     "output_type": "error",
     "traceback": [
      "\u001b[1;31m---------------------------------------------------------------------------\u001b[0m",
      "\u001b[1;31mFileNotFoundError\u001b[0m                         Traceback (most recent call last)",
      "Cell \u001b[1;32mIn[3], line 3\u001b[0m\n\u001b[0;32m      1\u001b[0m mapping \u001b[38;5;241m=\u001b[39m \u001b[38;5;28;01mNone\u001b[39;00m\n\u001b[0;32m      2\u001b[0m \u001b[38;5;28;01mwith\u001b[39;00m \u001b[38;5;28mopen\u001b[39m(new_ms_file, \u001b[38;5;124m'\u001b[39m\u001b[38;5;124mw\u001b[39m\u001b[38;5;124m'\u001b[39m) \u001b[38;5;28;01mas\u001b[39;00m out_file:\n\u001b[1;32m----> 3\u001b[0m     \u001b[38;5;28;01mwith\u001b[39;00m \u001b[38;5;28mopen\u001b[39m(ms_file, \u001b[38;5;124m'\u001b[39m\u001b[38;5;124mr\u001b[39m\u001b[38;5;124m'\u001b[39m) \u001b[38;5;28;01mas\u001b[39;00m file:\n\u001b[0;32m      4\u001b[0m         \u001b[38;5;28;01mfor\u001b[39;00m line \u001b[38;5;129;01min\u001b[39;00m tqdm(file):\n\u001b[0;32m      5\u001b[0m             \u001b[38;5;28;01mif\u001b[39;00m mapping \u001b[38;5;129;01mis\u001b[39;00m \u001b[38;5;28;01mNone\u001b[39;00m:\n",
      "File \u001b[1;32mc:\\Users\\zahar\\anaconda3\\Lib\\site-packages\\IPython\\core\\interactiveshell.py:324\u001b[0m, in \u001b[0;36m_modified_open\u001b[1;34m(file, *args, **kwargs)\u001b[0m\n\u001b[0;32m    317\u001b[0m \u001b[38;5;28;01mif\u001b[39;00m file \u001b[38;5;129;01min\u001b[39;00m {\u001b[38;5;241m0\u001b[39m, \u001b[38;5;241m1\u001b[39m, \u001b[38;5;241m2\u001b[39m}:\n\u001b[0;32m    318\u001b[0m     \u001b[38;5;28;01mraise\u001b[39;00m \u001b[38;5;167;01mValueError\u001b[39;00m(\n\u001b[0;32m    319\u001b[0m         \u001b[38;5;124mf\u001b[39m\u001b[38;5;124m\"\u001b[39m\u001b[38;5;124mIPython won\u001b[39m\u001b[38;5;124m'\u001b[39m\u001b[38;5;124mt let you open fd=\u001b[39m\u001b[38;5;132;01m{\u001b[39;00mfile\u001b[38;5;132;01m}\u001b[39;00m\u001b[38;5;124m by default \u001b[39m\u001b[38;5;124m\"\u001b[39m\n\u001b[0;32m    320\u001b[0m         \u001b[38;5;124m\"\u001b[39m\u001b[38;5;124mas it is likely to crash IPython. If you know what you are doing, \u001b[39m\u001b[38;5;124m\"\u001b[39m\n\u001b[0;32m    321\u001b[0m         \u001b[38;5;124m\"\u001b[39m\u001b[38;5;124myou can use builtins\u001b[39m\u001b[38;5;124m'\u001b[39m\u001b[38;5;124m open.\u001b[39m\u001b[38;5;124m\"\u001b[39m\n\u001b[0;32m    322\u001b[0m     )\n\u001b[1;32m--> 324\u001b[0m \u001b[38;5;28;01mreturn\u001b[39;00m io_open(file, \u001b[38;5;241m*\u001b[39margs, \u001b[38;5;241m*\u001b[39m\u001b[38;5;241m*\u001b[39mkwargs)\n",
      "\u001b[1;31mFileNotFoundError\u001b[0m: [Errno 2] No such file or directory: 'meta_sessions.csv'"
     ]
    }
   ],
   "source": [
    "mapping = None\n",
    "with open(new_ms_file, 'w') as out_file:\n",
    "    with open(ms_file, 'r') as file:\n",
    "        for line in tqdm(file):\n",
    "            if mapping is None:\n",
    "                out_file.write(line)\n",
    "                mapping = {name.strip('\"'): idx for idx, name in enumerate(line[:-1].split(','))}\n",
    "                continue\n",
    "\n",
    "            row = line.split(',')\n",
    "            games_id = row[mapping['games_id']]\n",
    "            user_id = row[mapping['oauth_user_games_id']]\n",
    "            session_id = row[mapping['id']]\n",
    "    \n",
    "            if games_id == '\"1\"':\n",
    "                if user_id in users:\n",
    "                    sessions.add(session_id)\n",
    "                    out_file.write(line)\n",
    "                elif len(users) < top_users_count:\n",
    "                    users.add(user_id)\n",
    "                    sessions.add(session_id)\n",
    "                    out_file.write(line)"
   ]
  },
  {
   "cell_type": "code",
   "execution_count": 27,
   "id": "5deff410-4eed-4519-bf37-8c6e9cdbec23",
   "metadata": {},
   "outputs": [
    {
     "name": "stderr",
     "output_type": "stream",
     "text": [
      "187046528it [03:12, 972957.59it/s] \n"
     ]
    }
   ],
   "source": [
    "mapping = None\n",
    "with open(new_msattr_file, 'w') as out_file:\n",
    "    with open(ms_attr_file, 'r') as file:\n",
    "        for line in tqdm(file):\n",
    "            if mapping is None:\n",
    "                out_file.write(line)\n",
    "                mapping = {name.strip('\"'): idx for idx, name in enumerate(line[:-1].split(','))}\n",
    "                continue\n",
    "            row = line.split(',')\n",
    "            session_id = row[mapping['session_id']]\n",
    "            if session_id in sessions:\n",
    "                out_file.write(line)"
   ]
  },
  {
   "cell_type": "code",
   "execution_count": null,
   "id": "1a8dbae1-7c70-4ec3-9629-77551cb9301c",
   "metadata": {},
   "outputs": [],
   "source": []
  }
 ],
 "metadata": {
  "kernelspec": {
   "display_name": "base",
   "language": "python",
   "name": "python3"
  },
  "language_info": {
   "codemirror_mode": {
    "name": "ipython",
    "version": 3
   },
   "file_extension": ".py",
   "mimetype": "text/x-python",
   "name": "python",
   "nbconvert_exporter": "python",
   "pygments_lexer": "ipython3",
   "version": "3.12.4"
  }
 },
 "nbformat": 4,
 "nbformat_minor": 5
}
