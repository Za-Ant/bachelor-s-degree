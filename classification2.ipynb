{
 "cells": [
  {
   "cell_type": "code",
   "execution_count": 1,
   "id": "1bf719dd-cae9-4591-aa4c-915bfad8be11",
   "metadata": {
    "scrolled": true
   },
   "outputs": [
    {
     "data": {
      "text/html": [
       "<div>\n",
       "    <div style=\"width: 24px; height: 24px; background-color: #e1e1e1; border: 3px solid #9D9D9D; border-radius: 5px; position: absolute;\"> </div>\n",
       "    <div style=\"margin-left: 48px;\">\n",
       "        <h3 style=\"margin-bottom: 0px;\">Client</h3>\n",
       "        <p style=\"color: #9D9D9D; margin-bottom: 0px;\">Client-08953e0e-0a98-11f0-84dc-08b4d231a68b</p>\n",
       "        <table style=\"width: 100%; text-align: left;\">\n",
       "\n",
       "        <tr>\n",
       "        \n",
       "            <td style=\"text-align: left;\"><strong>Connection method:</strong> Cluster object</td>\n",
       "            <td style=\"text-align: left;\"><strong>Cluster type:</strong> distributed.LocalCluster</td>\n",
       "        \n",
       "        </tr>\n",
       "\n",
       "        \n",
       "            <tr>\n",
       "                <td style=\"text-align: left;\">\n",
       "                    <strong>Dashboard: </strong> <a href=\"http://127.0.0.1:8787/status\" target=\"_blank\">http://127.0.0.1:8787/status</a>\n",
       "                </td>\n",
       "                <td style=\"text-align: left;\"></td>\n",
       "            </tr>\n",
       "        \n",
       "\n",
       "        </table>\n",
       "\n",
       "        \n",
       "\n",
       "        \n",
       "            <details>\n",
       "            <summary style=\"margin-bottom: 20px;\"><h3 style=\"display: inline;\">Cluster Info</h3></summary>\n",
       "            <div class=\"jp-RenderedHTMLCommon jp-RenderedHTML jp-mod-trusted jp-OutputArea-output\">\n",
       "    <div style=\"width: 24px; height: 24px; background-color: #e1e1e1; border: 3px solid #9D9D9D; border-radius: 5px; position: absolute;\">\n",
       "    </div>\n",
       "    <div style=\"margin-left: 48px;\">\n",
       "        <h3 style=\"margin-bottom: 0px; margin-top: 0px;\">LocalCluster</h3>\n",
       "        <p style=\"color: #9D9D9D; margin-bottom: 0px;\">b0b90617</p>\n",
       "        <table style=\"width: 100%; text-align: left;\">\n",
       "            <tr>\n",
       "                <td style=\"text-align: left;\">\n",
       "                    <strong>Dashboard:</strong> <a href=\"http://127.0.0.1:8787/status\" target=\"_blank\">http://127.0.0.1:8787/status</a>\n",
       "                </td>\n",
       "                <td style=\"text-align: left;\">\n",
       "                    <strong>Workers:</strong> 2\n",
       "                </td>\n",
       "            </tr>\n",
       "            <tr>\n",
       "                <td style=\"text-align: left;\">\n",
       "                    <strong>Total threads:</strong> 4\n",
       "                </td>\n",
       "                <td style=\"text-align: left;\">\n",
       "                    <strong>Total memory:</strong> 22.35 GiB\n",
       "                </td>\n",
       "            </tr>\n",
       "            \n",
       "            <tr>\n",
       "    <td style=\"text-align: left;\"><strong>Status:</strong> running</td>\n",
       "    <td style=\"text-align: left;\"><strong>Using processes:</strong> True</td>\n",
       "</tr>\n",
       "\n",
       "            \n",
       "        </table>\n",
       "\n",
       "        <details>\n",
       "            <summary style=\"margin-bottom: 20px;\">\n",
       "                <h3 style=\"display: inline;\">Scheduler Info</h3>\n",
       "            </summary>\n",
       "\n",
       "            <div style=\"\">\n",
       "    <div>\n",
       "        <div style=\"width: 24px; height: 24px; background-color: #FFF7E5; border: 3px solid #FF6132; border-radius: 5px; position: absolute;\"> </div>\n",
       "        <div style=\"margin-left: 48px;\">\n",
       "            <h3 style=\"margin-bottom: 0px;\">Scheduler</h3>\n",
       "            <p style=\"color: #9D9D9D; margin-bottom: 0px;\">Scheduler-b8f29db3-1f24-47ca-bd11-cb2edbf7951b</p>\n",
       "            <table style=\"width: 100%; text-align: left;\">\n",
       "                <tr>\n",
       "                    <td style=\"text-align: left;\">\n",
       "                        <strong>Comm:</strong> tcp://127.0.0.1:57861\n",
       "                    </td>\n",
       "                    <td style=\"text-align: left;\">\n",
       "                        <strong>Workers:</strong> 2\n",
       "                    </td>\n",
       "                </tr>\n",
       "                <tr>\n",
       "                    <td style=\"text-align: left;\">\n",
       "                        <strong>Dashboard:</strong> <a href=\"http://127.0.0.1:8787/status\" target=\"_blank\">http://127.0.0.1:8787/status</a>\n",
       "                    </td>\n",
       "                    <td style=\"text-align: left;\">\n",
       "                        <strong>Total threads:</strong> 4\n",
       "                    </td>\n",
       "                </tr>\n",
       "                <tr>\n",
       "                    <td style=\"text-align: left;\">\n",
       "                        <strong>Started:</strong> Just now\n",
       "                    </td>\n",
       "                    <td style=\"text-align: left;\">\n",
       "                        <strong>Total memory:</strong> 22.35 GiB\n",
       "                    </td>\n",
       "                </tr>\n",
       "            </table>\n",
       "        </div>\n",
       "    </div>\n",
       "\n",
       "    <details style=\"margin-left: 48px;\">\n",
       "        <summary style=\"margin-bottom: 20px;\">\n",
       "            <h3 style=\"display: inline;\">Workers</h3>\n",
       "        </summary>\n",
       "\n",
       "        \n",
       "        <div style=\"margin-bottom: 20px;\">\n",
       "            <div style=\"width: 24px; height: 24px; background-color: #DBF5FF; border: 3px solid #4CC9FF; border-radius: 5px; position: absolute;\"> </div>\n",
       "            <div style=\"margin-left: 48px;\">\n",
       "            <details>\n",
       "                <summary>\n",
       "                    <h4 style=\"margin-bottom: 0px; display: inline;\">Worker: 0</h4>\n",
       "                </summary>\n",
       "                <table style=\"width: 100%; text-align: left;\">\n",
       "                    <tr>\n",
       "                        <td style=\"text-align: left;\">\n",
       "                            <strong>Comm: </strong> tcp://127.0.0.1:57873\n",
       "                        </td>\n",
       "                        <td style=\"text-align: left;\">\n",
       "                            <strong>Total threads: </strong> 2\n",
       "                        </td>\n",
       "                    </tr>\n",
       "                    <tr>\n",
       "                        <td style=\"text-align: left;\">\n",
       "                            <strong>Dashboard: </strong> <a href=\"http://127.0.0.1:57876/status\" target=\"_blank\">http://127.0.0.1:57876/status</a>\n",
       "                        </td>\n",
       "                        <td style=\"text-align: left;\">\n",
       "                            <strong>Memory: </strong> 11.18 GiB\n",
       "                        </td>\n",
       "                    </tr>\n",
       "                    <tr>\n",
       "                        <td style=\"text-align: left;\">\n",
       "                            <strong>Nanny: </strong> tcp://127.0.0.1:57864\n",
       "                        </td>\n",
       "                        <td style=\"text-align: left;\"></td>\n",
       "                    </tr>\n",
       "                    <tr>\n",
       "                        <td colspan=\"2\" style=\"text-align: left;\">\n",
       "                            <strong>Local directory: </strong> C:\\Users\\ANDREI~1\\AppData\\Local\\Temp\\dask-scratch-space\\worker-wph9mvmu\n",
       "                        </td>\n",
       "                    </tr>\n",
       "\n",
       "                    \n",
       "\n",
       "                    \n",
       "\n",
       "                </table>\n",
       "            </details>\n",
       "            </div>\n",
       "        </div>\n",
       "        \n",
       "        <div style=\"margin-bottom: 20px;\">\n",
       "            <div style=\"width: 24px; height: 24px; background-color: #DBF5FF; border: 3px solid #4CC9FF; border-radius: 5px; position: absolute;\"> </div>\n",
       "            <div style=\"margin-left: 48px;\">\n",
       "            <details>\n",
       "                <summary>\n",
       "                    <h4 style=\"margin-bottom: 0px; display: inline;\">Worker: 1</h4>\n",
       "                </summary>\n",
       "                <table style=\"width: 100%; text-align: left;\">\n",
       "                    <tr>\n",
       "                        <td style=\"text-align: left;\">\n",
       "                            <strong>Comm: </strong> tcp://127.0.0.1:57872\n",
       "                        </td>\n",
       "                        <td style=\"text-align: left;\">\n",
       "                            <strong>Total threads: </strong> 2\n",
       "                        </td>\n",
       "                    </tr>\n",
       "                    <tr>\n",
       "                        <td style=\"text-align: left;\">\n",
       "                            <strong>Dashboard: </strong> <a href=\"http://127.0.0.1:57874/status\" target=\"_blank\">http://127.0.0.1:57874/status</a>\n",
       "                        </td>\n",
       "                        <td style=\"text-align: left;\">\n",
       "                            <strong>Memory: </strong> 11.18 GiB\n",
       "                        </td>\n",
       "                    </tr>\n",
       "                    <tr>\n",
       "                        <td style=\"text-align: left;\">\n",
       "                            <strong>Nanny: </strong> tcp://127.0.0.1:57866\n",
       "                        </td>\n",
       "                        <td style=\"text-align: left;\"></td>\n",
       "                    </tr>\n",
       "                    <tr>\n",
       "                        <td colspan=\"2\" style=\"text-align: left;\">\n",
       "                            <strong>Local directory: </strong> C:\\Users\\ANDREI~1\\AppData\\Local\\Temp\\dask-scratch-space\\worker-zr8zfh0d\n",
       "                        </td>\n",
       "                    </tr>\n",
       "\n",
       "                    \n",
       "\n",
       "                    \n",
       "\n",
       "                </table>\n",
       "            </details>\n",
       "            </div>\n",
       "        </div>\n",
       "        \n",
       "\n",
       "    </details>\n",
       "</div>\n",
       "\n",
       "        </details>\n",
       "    </div>\n",
       "</div>\n",
       "            </details>\n",
       "        \n",
       "\n",
       "    </div>\n",
       "</div>"
      ],
      "text/plain": [
       "<Client: 'tcp://127.0.0.1:57861' processes=2 threads=4, memory=22.35 GiB>"
      ]
     },
     "execution_count": 1,
     "metadata": {},
     "output_type": "execute_result"
    },
    {
     "name": "stderr",
     "output_type": "stream",
     "text": [
      "2025-03-27 03:22:24,745 - distributed.nanny.memory - WARNING - Worker tcp://127.0.0.1:57873 (pid=21372) exceeded 95% memory budget. Restarting...\n",
      "2025-03-27 03:22:24,755 - distributed.scheduler - WARNING - Removing worker 'tcp://127.0.0.1:57873' caused the cluster to lose already computed task(s), which will be recomputed elsewhere: {('repartitiontofewer-11e68300b7bb6ee85bc973bd120d1f67', 0)} (stimulus_id='handle-worker-cleanup-1743031344.7554755')\n",
      "2025-03-27 03:22:24,758 - distributed.scheduler - ERROR - Couldn't gather keys: {('repartitiontofewer-11e68300b7bb6ee85bc973bd120d1f67', 0): 'waiting'}\n",
      "2025-03-27 03:22:25,932 - distributed.nanny - WARNING - Restarting worker\n",
      "2025-03-27 03:22:39,343 - distributed.nanny.memory - WARNING - Worker tcp://127.0.0.1:57872 (pid=34568) exceeded 95% memory budget. Restarting...\n",
      "2025-03-27 03:22:39,353 - distributed.scheduler - WARNING - Removing worker 'tcp://127.0.0.1:57872' caused the cluster to lose already computed task(s), which will be recomputed elsewhere: {('repartitiontofewer-11e68300b7bb6ee85bc973bd120d1f67', 0)} (stimulus_id='handle-worker-cleanup-1743031359.3539736')\n",
      "2025-03-27 03:22:39,359 - distributed.scheduler - ERROR - Couldn't gather keys: {('repartitiontofewer-11e68300b7bb6ee85bc973bd120d1f67', 0): 'waiting'}\n",
      "2025-03-27 03:22:40,277 - distributed.nanny - WARNING - Restarting worker\n",
      "2025-03-27 03:22:54,926 - distributed.nanny.memory - WARNING - Worker tcp://127.0.0.1:58112 (pid=36656) exceeded 95% memory budget. Restarting...\n",
      "2025-03-27 03:22:54,934 - distributed.scheduler - WARNING - Removing worker 'tcp://127.0.0.1:58112' caused the cluster to lose already computed task(s), which will be recomputed elsewhere: {('repartitiontofewer-11e68300b7bb6ee85bc973bd120d1f67', 0)} (stimulus_id='handle-worker-cleanup-1743031374.9342954')\n",
      "2025-03-27 03:22:54,939 - distributed.scheduler - ERROR - Couldn't gather keys: {('repartitiontofewer-11e68300b7bb6ee85bc973bd120d1f67', 0): 'waiting'}\n",
      "2025-03-27 03:22:55,468 - distributed.nanny - WARNING - Restarting worker\n",
      "2025-03-27 03:23:08,545 - distributed.nanny.memory - WARNING - Worker tcp://127.0.0.1:58127 (pid=14680) exceeded 95% memory budget. Restarting...\n",
      "2025-03-27 03:23:08,554 - distributed.scheduler - WARNING - Removing worker 'tcp://127.0.0.1:58127' caused the cluster to lose already computed task(s), which will be recomputed elsewhere: {('repartitiontofewer-11e68300b7bb6ee85bc973bd120d1f67', 0)} (stimulus_id='handle-worker-cleanup-1743031388.5544887')\n",
      "2025-03-27 03:23:08,558 - distributed.scheduler - ERROR - Couldn't gather keys: {('repartitiontofewer-11e68300b7bb6ee85bc973bd120d1f67', 0): 'waiting'}\n",
      "2025-03-27 03:23:08,998 - distributed.nanny - WARNING - Restarting worker\n",
      "Task exception was never retrieved\n",
      "future: <Task finished name='Task-119185' coro=<Client._gather.<locals>.wait() done, defined at C:\\Users\\andrei_rozdestvenski\\anaconda3\\Lib\\site-packages\\distributed\\client.py:2394> exception=AllExit()>\n",
      "Traceback (most recent call last):\n",
      "  File \"C:\\Users\\andrei_rozdestvenski\\anaconda3\\Lib\\site-packages\\distributed\\client.py\", line 2403, in wait\n",
      "    raise AllExit()\n",
      "distributed.client.AllExit\n",
      "2025-03-27 03:23:38,633 - distributed.nanny.memory - WARNING - Worker tcp://127.0.0.1:58139 (pid=34988) exceeded 95% memory budget. Restarting...\n",
      "2025-03-27 03:23:38,639 - distributed.scheduler - WARNING - Removing worker 'tcp://127.0.0.1:58139' caused the cluster to lose already computed task(s), which will be recomputed elsewhere: {('repartitiontofewer-11e68300b7bb6ee85bc973bd120d1f67', 0)} (stimulus_id='handle-worker-cleanup-1743031418.6403167')\n",
      "2025-03-27 03:23:38,644 - distributed.scheduler - ERROR - Couldn't gather keys: {('repartitiontofewer-11e68300b7bb6ee85bc973bd120d1f67', 0): 'waiting'}\n",
      "2025-03-27 03:23:39,166 - distributed.nanny - WARNING - Restarting worker\n",
      "2025-03-27 03:23:52,922 - distributed.nanny.memory - WARNING - Worker tcp://127.0.0.1:58152 (pid=10804) exceeded 95% memory budget. Restarting...\n",
      "2025-03-27 03:23:52,929 - distributed.scheduler - WARNING - Removing worker 'tcp://127.0.0.1:58152' caused the cluster to lose already computed task(s), which will be recomputed elsewhere: {('repartitiontofewer-11e68300b7bb6ee85bc973bd120d1f67', 0)} (stimulus_id='handle-worker-cleanup-1743031432.9294157')\n",
      "2025-03-27 03:23:52,931 - distributed.scheduler - ERROR - Couldn't gather keys: {('repartitiontofewer-11e68300b7bb6ee85bc973bd120d1f67', 0): 'waiting'}\n",
      "2025-03-27 03:23:53,374 - distributed.nanny - WARNING - Restarting worker\n",
      "Task exception was never retrieved\n",
      "future: <Task finished name='Task-135622' coro=<Client._gather.<locals>.wait() done, defined at C:\\Users\\andrei_rozdestvenski\\anaconda3\\Lib\\site-packages\\distributed\\client.py:2394> exception=AllExit()>\n",
      "Traceback (most recent call last):\n",
      "  File \"C:\\Users\\andrei_rozdestvenski\\anaconda3\\Lib\\site-packages\\distributed\\client.py\", line 2403, in wait\n",
      "    raise AllExit()\n",
      "distributed.client.AllExit\n"
     ]
    }
   ],
   "source": [
    "from dask.distributed import Client\n",
    "\n",
    "client = Client(n_workers=2, threads_per_worker=2, memory_limit=\"12GB\")\n",
    "client"
   ]
  },
  {
   "cell_type": "code",
   "execution_count": 2,
   "id": "bf46a4a5-a6f9-4d8c-9e31-2f2a12722d35",
   "metadata": {},
   "outputs": [],
   "source": [
    "ms_file = 'meta_sessions.csv'\n",
    "ms_attrs_file = 'meta_sessions_attributes.csv'\n",
    "ms_attrs_definitions = 'meta_sessions_attributes_definitions.csv'"
   ]
  },
  {
   "cell_type": "code",
   "execution_count": 3,
   "id": "d768916e-63c3-41cd-ba5d-d765a034d4de",
   "metadata": {},
   "outputs": [],
   "source": [
    "import dask.dataframe as dd\n",
    "import pandas as pd"
   ]
  },
  {
   "cell_type": "code",
   "execution_count": 4,
   "id": "ee4f8891-06ad-43d6-85cf-95ac7f1136fa",
   "metadata": {},
   "outputs": [],
   "source": [
    "ms = dd.read_csv(ms_file)\n",
    "ms_attrs = dd.read_csv(ms_attrs_file)"
   ]
  },
  {
   "cell_type": "code",
   "execution_count": 5,
   "id": "0e531eb4-e7a2-49c6-9f9c-6fb8a66f39ba",
   "metadata": {},
   "outputs": [
    {
     "name": "stdout",
     "output_type": "stream",
     "text": [
      "1, 2, 3, 4, 5, 6, 7, 8, 9, 10, 11, 12, 13, 14, 15, 16, 17, 18, 19, 20, 21, 22, 23, 24, 25, 26, 27, 28\n"
     ]
    }
   ],
   "source": [
    "with open(ms_attrs_definitions, 'r') as file:\n",
    "    attrs_indexes = [int(line.split(',')[0].strip('\"')) for i, line in enumerate(file) if i > 0]\n",
    "print(*attrs_indexes, sep=', ')"
   ]
  },
  {
   "cell_type": "code",
   "execution_count": 6,
   "id": "a8b0f30d-2ce4-4979-8b89-1f92f433c9cb",
   "metadata": {},
   "outputs": [],
   "source": [
    "for idx in attrs_indexes:\n",
    "    ms_attrs[f'attr_{idx}'] = ms_attrs['value'].where(ms_attrs['session_attribute_definition_id'] == idx, 0)"
   ]
  },
  {
   "cell_type": "code",
   "execution_count": 7,
   "id": "9cd87981-fc57-4ce9-9662-e8d6c130cdb7",
   "metadata": {},
   "outputs": [],
   "source": [
    "ms_attrs = ms_attrs.drop(columns=['created_at', 'updated_at', 'session_attribute_definition_id', 'value', 'id'])"
   ]
  },
  {
   "cell_type": "code",
   "execution_count": 8,
   "id": "24bafd47-b26b-4835-951f-0021a83fee13",
   "metadata": {},
   "outputs": [],
   "source": [
    "full_table = (\n",
    "    ms_attrs\n",
    "    .repartition(partition_size='10Mb')\n",
    "    .merge(\n",
    "        ms[['id', 'oauth_user_games_id']].repartition(partition_size='10Mb'),\n",
    "        left_on='session_id',\n",
    "        right_on='id',\n",
    "        on='left'\n",
    "    )\n",
    "    .drop_duplicates(['session_id'])\n",
    ")"
   ]
  },
  {
   "cell_type": "code",
   "execution_count": null,
   "id": "98799392-7717-4239-914b-f67bdd585fa4",
   "metadata": {},
   "outputs": [],
   "source": [
    "full_table.to_csv('result_data.csv', single_file=True, index=False)"
   ]
  },
  {
   "cell_type": "code",
   "execution_count": null,
   "id": "bc87df63-4753-45ef-90f1-b3c6f698641f",
   "metadata": {},
   "outputs": [],
   "source": []
  },
  {
   "cell_type": "code",
   "execution_count": null,
   "id": "e46ad256-88d1-4332-a4ac-3eb8f7530a15",
   "metadata": {},
   "outputs": [],
   "source": []
  },
  {
   "cell_type": "code",
   "execution_count": 5,
   "id": "1c1acb70-05fc-4703-a530-3929da0c89ac",
   "metadata": {},
   "outputs": [],
   "source": [
    "full_table = dd.read_csv('result_data.csv')"
   ]
  },
  {
   "cell_type": "code",
   "execution_count": 7,
   "id": "10303be4-7c5b-4f23-a364-daccdf7466e0",
   "metadata": {},
   "outputs": [],
   "source": [
    "def shift_group(df):\n",
    "    df = df.sort_values(by='session_id')\n",
    "    df['metric'] = df['attr_26'].shift(-1)\n",
    "    return df"
   ]
  },
  {
   "cell_type": "code",
   "execution_count": 8,
   "id": "e225a49f-260b-478a-9709-91dc1faf825b",
   "metadata": {},
   "outputs": [],
   "source": [
    "full_table = full_table.groupby('oauth_user_games_id').apply(shift_group, meta={**full_table.dtypes.to_dict(), 'metric': 'int64'})"
   ]
  },
  {
   "cell_type": "code",
   "execution_count": 9,
   "id": "b8be35a9-ce1b-4d5f-85be-09a317e8dd49",
   "metadata": {},
   "outputs": [],
   "source": [
    "full_table = full_table.persist()"
   ]
  },
  {
   "cell_type": "code",
   "execution_count": null,
   "id": "e5beb056-d774-4044-aca2-902c7544ad51",
   "metadata": {},
   "outputs": [],
   "source": [
    "full_table.dropna(subset=['metric']).reset_index(drop=True).to_csv('prepared_data.csv', single_file=True, index=False)"
   ]
  },
  {
   "cell_type": "code",
   "execution_count": null,
   "id": "31d03b60-70fd-4f35-b24f-bdfcb9ec7234",
   "metadata": {},
   "outputs": [],
   "source": []
  },
  {
   "cell_type": "code",
   "execution_count": null,
   "id": "8612d4a9-966b-4adf-b525-b7fe8654d55b",
   "metadata": {},
   "outputs": [],
   "source": []
  },
  {
   "cell_type": "code",
   "execution_count": 51,
   "id": "42cb8543-595e-43e1-a6a7-9b5768b0c8ab",
   "metadata": {},
   "outputs": [],
   "source": [
    "import pandas as pd\n",
    "import numpy as np\n",
    "from sklearn.model_selection import train_test_split\n",
    "from sklearn.preprocessing import StandardScaler\n",
    "import tensorflow as tf\n",
    "from tensorflow.keras.models import Sequential\n",
    "from tensorflow.keras.layers import Dense, Input, Dropout"
   ]
  },
  {
   "cell_type": "code",
   "execution_count": 22,
   "id": "b0bec8df-d7c6-44ea-8007-6896acb77a34",
   "metadata": {},
   "outputs": [],
   "source": [
    "full_table = pd.read_csv('prepared_data.csv')"
   ]
  },
  {
   "cell_type": "code",
   "execution_count": 44,
   "id": "ec597945-997c-45d1-a3e9-c8640bb0bdee",
   "metadata": {},
   "outputs": [],
   "source": [
    "attr_params = [x for x in full_table.columns if x.startswith('attr_')]"
   ]
  },
  {
   "cell_type": "code",
   "execution_count": 46,
   "id": "1ac7b2f6-7895-4f14-9cb6-94a4520558ca",
   "metadata": {},
   "outputs": [],
   "source": [
    "\n",
    "X_df = full_table[attr_params]\n",
    "Y_df = full_table[['metric']]"
   ]
  },
  {
   "cell_type": "code",
   "execution_count": 47,
   "id": "18bfcece-eb4c-4545-8087-9c7d4de7a749",
   "metadata": {},
   "outputs": [],
   "source": [
    "Y_df.loc[:,'metric'] = (Y_df['metric'] > 0).astype(int)"
   ]
  },
  {
   "cell_type": "code",
   "execution_count": 48,
   "id": "606e3f23-a3f0-44ce-a196-61f60d9d5ad6",
   "metadata": {},
   "outputs": [],
   "source": [
    "scaler = StandardScaler()\n",
    "X = scaler.fit_transform(X_df)\n",
    "Y = Y_df.values"
   ]
  },
  {
   "cell_type": "code",
   "execution_count": null,
   "id": "94b18c28-e6cf-4de2-8e7b-f8bf14d07069",
   "metadata": {},
   "outputs": [
    {
     "name": "stderr",
     "output_type": "stream",
     "text": [
      "C:\\Users\\andrei_rozdestvenski\\anaconda3\\Lib\\site-packages\\numpy\\lib\\function_base.py:2897: RuntimeWarning: invalid value encountered in divide\n",
      "  c /= stddev[:, None]\n",
      "C:\\Users\\andrei_rozdestvenski\\anaconda3\\Lib\\site-packages\\numpy\\lib\\function_base.py:2898: RuntimeWarning: invalid value encountered in divide\n",
      "  c /= stddev[None, :]\n"
     ]
    },
    {
     "name": "stdout",
     "output_type": "stream",
     "text": [
      "[        nan  0.01473394 -0.01046601 -0.00021887 -0.01340097  0.00041092\n",
      " -0.00304954 -0.00014794  0.00942839  0.00275514 -0.00335638 -0.00304355\n",
      " -0.00104371 -0.00387333 -0.00429289 -0.00317963 -0.00908251 -0.00788377\n",
      " -0.00670071 -0.00488505         nan -0.01273213 -0.02142058 -0.0178016\n",
      " -0.00134932  0.02639444  0.00148799 -0.01896491]\n"
     ]
    }
   ],
   "source": [
    "_y = Y.ravel()\n",
    "correlations = np.array([np.corrcoef(X[:, i], _y)[0, 1] for i in range(X.shape[1])])\n",
    "\n",
    "print(correlations)"
   ]
  },
  {
   "cell_type": "code",
   "execution_count": 52,
   "id": "57daccb4-51c4-4581-a04e-277bd21fc956",
   "metadata": {},
   "outputs": [],
   "source": [
    "model = Sequential([\n",
    "    Input((X.shape[1],)),\n",
    "    Dense(64, activation='tanh'),\n",
    "    Dropout(.2),\n",
    "    Dense(32, activation='tanh'),\n",
    "    Dropout(.2),\n",
    "    Dense(1, activation='sigmoid')\n",
    "])\n",
    "\n",
    "model.compile(\n",
    "    optimizer='adam',\n",
    "    loss='binary_crossentropy',\n",
    "    metrics=['accuracy']\n",
    ")"
   ]
  },
  {
   "cell_type": "code",
   "execution_count": 53,
   "id": "0d0a6278-6404-4890-8a01-f85616d63dce",
   "metadata": {
    "scrolled": true
   },
   "outputs": [
    {
     "name": "stdout",
     "output_type": "stream",
     "text": [
      "Epoch 1/25\n",
      "\u001b[1m451754/451754\u001b[0m \u001b[32m━━━━━━━━━━━━━━━━━━━━\u001b[0m\u001b[37m\u001b[0m \u001b[1m498s\u001b[0m 1ms/step - accuracy: 0.7616 - loss: 0.5279 - val_accuracy: 0.7651 - val_loss: 0.5153\n",
      "Epoch 2/25\n",
      "\u001b[1m451754/451754\u001b[0m \u001b[32m━━━━━━━━━━━━━━━━━━━━\u001b[0m\u001b[37m\u001b[0m \u001b[1m496s\u001b[0m 1ms/step - accuracy: 0.7637 - loss: 0.5193 - val_accuracy: 0.7630 - val_loss: 0.5116\n",
      "Epoch 3/25\n",
      "\u001b[1m451754/451754\u001b[0m \u001b[32m━━━━━━━━━━━━━━━━━━━━\u001b[0m\u001b[37m\u001b[0m \u001b[1m490s\u001b[0m 1ms/step - accuracy: 0.7658 - loss: 0.5180 - val_accuracy: 0.7692 - val_loss: 0.5126\n",
      "Epoch 4/25\n",
      "\u001b[1m451754/451754\u001b[0m \u001b[32m━━━━━━━━━━━━━━━━━━━━\u001b[0m\u001b[37m\u001b[0m \u001b[1m478s\u001b[0m 1ms/step - accuracy: 0.7669 - loss: 0.5174 - val_accuracy: 0.7726 - val_loss: 0.5102\n",
      "Epoch 5/25\n",
      "\u001b[1m451754/451754\u001b[0m \u001b[32m━━━━━━━━━━━━━━━━━━━━\u001b[0m\u001b[37m\u001b[0m \u001b[1m473s\u001b[0m 1ms/step - accuracy: 0.7678 - loss: 0.5166 - val_accuracy: 0.7774 - val_loss: 0.5083\n",
      "Epoch 6/25\n",
      "\u001b[1m451754/451754\u001b[0m \u001b[32m━━━━━━━━━━━━━━━━━━━━\u001b[0m\u001b[37m\u001b[0m \u001b[1m473s\u001b[0m 1ms/step - accuracy: 0.7683 - loss: 0.5164 - val_accuracy: 0.7727 - val_loss: 0.5095\n",
      "Epoch 7/25\n",
      "\u001b[1m451754/451754\u001b[0m \u001b[32m━━━━━━━━━━━━━━━━━━━━\u001b[0m\u001b[37m\u001b[0m \u001b[1m472s\u001b[0m 1ms/step - accuracy: 0.7688 - loss: 0.5160 - val_accuracy: 0.7647 - val_loss: 0.5126\n",
      "Epoch 8/25\n",
      "\u001b[1m451754/451754\u001b[0m \u001b[32m━━━━━━━━━━━━━━━━━━━━\u001b[0m\u001b[37m\u001b[0m \u001b[1m478s\u001b[0m 1ms/step - accuracy: 0.7694 - loss: 0.5158 - val_accuracy: 0.7747 - val_loss: 0.5097\n",
      "Epoch 9/25\n",
      "\u001b[1m451754/451754\u001b[0m \u001b[32m━━━━━━━━━━━━━━━━━━━━\u001b[0m\u001b[37m\u001b[0m \u001b[1m475s\u001b[0m 1ms/step - accuracy: 0.7696 - loss: 0.5157 - val_accuracy: 0.7675 - val_loss: 0.5111\n",
      "Epoch 10/25\n",
      "\u001b[1m451754/451754\u001b[0m \u001b[32m━━━━━━━━━━━━━━━━━━━━\u001b[0m\u001b[37m\u001b[0m \u001b[1m474s\u001b[0m 1ms/step - accuracy: 0.7699 - loss: 0.5154 - val_accuracy: 0.7774 - val_loss: 0.5070\n",
      "Epoch 11/25\n",
      "\u001b[1m451754/451754\u001b[0m \u001b[32m━━━━━━━━━━━━━━━━━━━━\u001b[0m\u001b[37m\u001b[0m \u001b[1m479s\u001b[0m 1ms/step - accuracy: 0.7704 - loss: 0.5151 - val_accuracy: 0.7766 - val_loss: 0.5088\n",
      "Epoch 12/25\n",
      "\u001b[1m451754/451754\u001b[0m \u001b[32m━━━━━━━━━━━━━━━━━━━━\u001b[0m\u001b[37m\u001b[0m \u001b[1m477s\u001b[0m 1ms/step - accuracy: 0.7707 - loss: 0.5149 - val_accuracy: 0.7786 - val_loss: 0.5090\n",
      "Epoch 13/25\n",
      "\u001b[1m451754/451754\u001b[0m \u001b[32m━━━━━━━━━━━━━━━━━━━━\u001b[0m\u001b[37m\u001b[0m \u001b[1m479s\u001b[0m 1ms/step - accuracy: 0.7710 - loss: 0.5146 - val_accuracy: 0.7771 - val_loss: 0.5087\n",
      "Epoch 14/25\n",
      "\u001b[1m451754/451754\u001b[0m \u001b[32m━━━━━━━━━━━━━━━━━━━━\u001b[0m\u001b[37m\u001b[0m \u001b[1m478s\u001b[0m 1ms/step - accuracy: 0.7712 - loss: 0.5148 - val_accuracy: 0.7773 - val_loss: 0.5076\n",
      "Epoch 15/25\n",
      "\u001b[1m451754/451754\u001b[0m \u001b[32m━━━━━━━━━━━━━━━━━━━━\u001b[0m\u001b[37m\u001b[0m \u001b[1m481s\u001b[0m 1ms/step - accuracy: 0.7713 - loss: 0.5146 - val_accuracy: 0.7783 - val_loss: 0.5077\n",
      "Epoch 16/25\n",
      "\u001b[1m451754/451754\u001b[0m \u001b[32m━━━━━━━━━━━━━━━━━━━━\u001b[0m\u001b[37m\u001b[0m \u001b[1m480s\u001b[0m 1ms/step - accuracy: 0.7716 - loss: 0.5143 - val_accuracy: 0.7771 - val_loss: 0.5076\n",
      "Epoch 17/25\n",
      "\u001b[1m451754/451754\u001b[0m \u001b[32m━━━━━━━━━━━━━━━━━━━━\u001b[0m\u001b[37m\u001b[0m \u001b[1m483s\u001b[0m 1ms/step - accuracy: 0.7716 - loss: 0.5143 - val_accuracy: 0.7773 - val_loss: 0.5076\n",
      "Epoch 18/25\n",
      "\u001b[1m451754/451754\u001b[0m \u001b[32m━━━━━━━━━━━━━━━━━━━━\u001b[0m\u001b[37m\u001b[0m \u001b[1m482s\u001b[0m 1ms/step - accuracy: 0.7718 - loss: 0.5142 - val_accuracy: 0.7795 - val_loss: 0.5090\n",
      "Epoch 19/25\n",
      "\u001b[1m451754/451754\u001b[0m \u001b[32m━━━━━━━━━━━━━━━━━━━━\u001b[0m\u001b[37m\u001b[0m \u001b[1m477s\u001b[0m 1ms/step - accuracy: 0.7720 - loss: 0.5140 - val_accuracy: 0.7715 - val_loss: 0.5132\n",
      "Epoch 20/25\n",
      "\u001b[1m451754/451754\u001b[0m \u001b[32m━━━━━━━━━━━━━━━━━━━━\u001b[0m\u001b[37m\u001b[0m \u001b[1m478s\u001b[0m 1ms/step - accuracy: 0.7722 - loss: 0.5137 - val_accuracy: 0.7702 - val_loss: 0.5154\n",
      "Epoch 21/25\n",
      "\u001b[1m451754/451754\u001b[0m \u001b[32m━━━━━━━━━━━━━━━━━━━━\u001b[0m\u001b[37m\u001b[0m \u001b[1m478s\u001b[0m 1ms/step - accuracy: 0.7721 - loss: 0.5141 - val_accuracy: 0.7792 - val_loss: 0.5072\n",
      "Epoch 22/25\n",
      "\u001b[1m451754/451754\u001b[0m \u001b[32m━━━━━━━━━━━━━━━━━━━━\u001b[0m\u001b[37m\u001b[0m \u001b[1m482s\u001b[0m 1ms/step - accuracy: 0.7719 - loss: 0.5142 - val_accuracy: 0.7749 - val_loss: 0.5081\n",
      "Epoch 23/25\n",
      "\u001b[1m451754/451754\u001b[0m \u001b[32m━━━━━━━━━━━━━━━━━━━━\u001b[0m\u001b[37m\u001b[0m \u001b[1m480s\u001b[0m 1ms/step - accuracy: 0.7720 - loss: 0.5140 - val_accuracy: 0.7745 - val_loss: 0.5084\n",
      "Epoch 24/25\n",
      "\u001b[1m451754/451754\u001b[0m \u001b[32m━━━━━━━━━━━━━━━━━━━━\u001b[0m\u001b[37m\u001b[0m \u001b[1m480s\u001b[0m 1ms/step - accuracy: 0.7725 - loss: 0.5135 - val_accuracy: 0.7785 - val_loss: 0.5082\n",
      "Epoch 25/25\n",
      "\u001b[1m451754/451754\u001b[0m \u001b[32m━━━━━━━━━━━━━━━━━━━━\u001b[0m\u001b[37m\u001b[0m \u001b[1m475s\u001b[0m 1ms/step - accuracy: 0.7726 - loss: 0.5136 - val_accuracy: 0.7771 - val_loss: 0.5074\n"
     ]
    }
   ],
   "source": [
    "history = model.fit(\n",
    "    X, Y,\n",
    "    validation_split=.2,\n",
    "    epochs=25\n",
    ")"
   ]
  },
  {
   "cell_type": "code",
   "execution_count": 54,
   "id": "8d4d5c90-5bef-4762-a75b-e3b1f44f9da0",
   "metadata": {},
   "outputs": [],
   "source": [
    "import matplotlib.pyplot as plt\n",
    "from sklearn.metrics import confusion_matrix, ConfusionMatrixDisplay, roc_curve, auc\n",
    "from matplotlib import pyplot as plt"
   ]
  },
  {
   "cell_type": "code",
   "execution_count": 58,
   "id": "9568b146-5e0c-4600-971f-29c43e2935b6",
   "metadata": {},
   "outputs": [
    {
     "name": "stdout",
     "output_type": "stream",
     "text": [
      "\u001b[1m112939/112939\u001b[0m \u001b[32m━━━━━━━━━━━━━━━━━━━━\u001b[0m\u001b[37m\u001b[0m \u001b[1m104s\u001b[0m 917us/step - accuracy: 0.7750 - loss: 0.5099\n",
      "Test Accuracy: 0.7753\n",
      "\u001b[1m112939/112939\u001b[0m \u001b[32m━━━━━━━━━━━━━━━━━━━━\u001b[0m\u001b[37m\u001b[0m \u001b[1m70s\u001b[0m 615us/step\n"
     ]
    },
    {
     "data": {
      "image/png": "[encoded data removed]",
      "text/plain": [
       "<Figure size 800x600 with 1 Axes>"
      ]
     },
     "metadata": {},
     "output_type": "display_data"
    },
    {
     "data": {
      "image/png": "[encoded data removed]",
      "text/plain": [
       "<Figure size 640x480 with 2 Axes>"
      ]
     },
     "metadata": {},
     "output_type": "display_data"
    }
   ],
   "source": [
    "# === 9. Vyhodnotenie modelu ===\n",
    "loss, accuracy = model.evaluate(X_test, Y_test)\n",
    "print(f\"Test Accuracy: {accuracy:.4f}\")\n",
    "\n",
    "# === 10. Predikcie pravdepodobností pre testovaciu množinu ===\n",
    "y_probs = model.predict(X_test).ravel()  # .ravel() pre 1D vektor\n",
    "y_pred = (y_probs > 0.5).astype(int)     # Binarizácia\n",
    "\n",
    "# === 11. ROC krivka ===\n",
    "fpr, tpr, thresholds = roc_curve(Y_test, y_probs)\n",
    "roc_auc = auc(fpr, tpr)\n",
    "\n",
    "plt.figure(figsize=(8, 6))\n",
    "plt.plot(fpr, tpr, label=f'ROC curve (AUC = {roc_auc:.2f})', linewidth=2)\n",
    "plt.plot([0, 1], [0, 1], 'k--')  # Diagonála (náhodný model)\n",
    "plt.xlabel('False Positive Rate')\n",
    "plt.ylabel('True Positive Rate')\n",
    "plt.title('ROC Curve')\n",
    "plt.legend(loc='lower right')\n",
    "plt.grid(True)\n",
    "plt.tight_layout()\n",
    "plt.show()\n",
    "\n",
    "# === 12. Confusion Matrix ===\n",
    "cm = confusion_matrix(Y_test, y_pred)\n",
    "disp = ConfusionMatrixDisplay(confusion_matrix=cm, display_labels=[\"No Order\", \"Order\"])\n",
    "disp.plot(cmap=plt.cm.Blues)\n",
    "plt.title(\"Confusion Matrix\")\n",
    "plt.grid(False)\n",
    "plt.tight_layout()\n",
    "plt.show()"
   ]
  },
  {
   "cell_type": "code",
   "execution_count": 59,
   "id": "23fd41e4-3a89-429f-8dfe-d245f9e8f80f",
   "metadata": {},
   "outputs": [
    {
     "data": {
      "image/png": "[encoded data removed]",
      "text/plain": [
       "<Figure size 800x500 with 1 Axes>"
      ]
     },
     "metadata": {},
     "output_type": "display_data"
    }
   ],
   "source": [
    "pd.DataFrame(history.history).plot(figsize=(8,5))\n",
    "plt.show()"
   ]
  },
  {
   "cell_type": "code",
   "execution_count": 61,
   "id": "7195cfb4-4e43-4461-bce1-ac220631d8a2",
   "metadata": {},
   "outputs": [],
   "source": [
    "model.save_weights('./model.weights.h5')"
   ]
  },
  {
   "cell_type": "code",
   "execution_count": null,
   "id": "5a121a37-4b79-45cf-ad66-ac981feaa6a3",
   "metadata": {},
   "outputs": [],
   "source": []
  }
 ],
 "metadata": {
  "kernelspec": {
   "display_name": "Python 3 (ipykernel)",
   "language": "python",
   "name": "python3"
  },
  "language_info": {
   "codemirror_mode": {
    "name": "ipython",
    "version": 3
   },
   "file_extension": ".py",
   "mimetype": "text/x-python",
   "name": "python",
   "nbconvert_exporter": "python",
   "pygments_lexer": "ipython3",
   "version": "3.12.7"
  }
 },
 "nbformat": 4,
 "nbformat_minor": 5
}
